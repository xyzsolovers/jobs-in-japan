{
 "cells": [
  {
   "cell_type": "code",
   "execution_count": 1,
   "metadata": {},
   "outputs": [
    {
     "ename": "ImportError",
     "evalue": "No module named google.appengine.api",
     "output_type": "error",
     "traceback": [
      "\u001b[1;31m---------------------------------------------------------------------------\u001b[0m",
      "\u001b[1;31mImportError\u001b[0m                               Traceback (most recent call last)",
      "\u001b[1;32m<ipython-input-1-4221dd54f890>\u001b[0m in \u001b[0;36m<module>\u001b[1;34m()\u001b[0m\n\u001b[0;32m      2\u001b[0m \u001b[1;32mimport\u001b[0m \u001b[0mjson\u001b[0m\u001b[1;33m\u001b[0m\u001b[0m\n\u001b[0;32m      3\u001b[0m \u001b[1;32mfrom\u001b[0m \u001b[0mbs4\u001b[0m \u001b[1;32mimport\u001b[0m \u001b[0mBeautifulSoup\u001b[0m\u001b[1;33m\u001b[0m\u001b[0m\n\u001b[1;32m----> 4\u001b[1;33m \u001b[1;32mfrom\u001b[0m \u001b[0mgoogle\u001b[0m\u001b[1;33m.\u001b[0m\u001b[0mappengine\u001b[0m\u001b[1;33m.\u001b[0m\u001b[0mapi\u001b[0m \u001b[1;32mimport\u001b[0m \u001b[0murlfetch\u001b[0m\u001b[1;33m\u001b[0m\u001b[0m\n\u001b[0m\u001b[0;32m      5\u001b[0m \u001b[1;32mimport\u001b[0m \u001b[0mwebencodings\u001b[0m\u001b[1;33m\u001b[0m\u001b[0m\n\u001b[0;32m      6\u001b[0m \u001b[1;32mimport\u001b[0m \u001b[0msix\u001b[0m\u001b[1;33m\u001b[0m\u001b[0m\n",
      "\u001b[1;31mImportError\u001b[0m: No module named google.appengine.api"
     ]
    }
   ],
   "source": [
    "import webapp2\n",
    "import json\n",
    "from bs4 import BeautifulSoup\n",
    "from google.appengine.api import urlfetch\n",
    "import webencodings\n",
    "import six\n",
    "import html5lib\n",
    "import logging\n",
    "\n",
    "#Controllers\n",
    "class MainHandler(webapp2.RequestHandler):\n",
    "\tdef get(self):\n",
    "\t\tself.response.headers['Content-Type'] = 'application/json'\n",
    "\n",
    "\t\t#urls\n",
    "\t\ttarget_url = 'https://townwork.net/joSrchRsltList/?ac=041&slc=0113&suc=01&svos=SCP01030101Salary0113'\n",
    "\t\ttownwork_url = 'https://townwork.net'\n",
    "\n",
    "\t\tres = urlfetch.fetch(target_url)\n",
    "\t\tres_data = json.loads(res.content)\n",
    "\n",
    "\t\tres_html = BeautifulSoup(res_data, \"html5lib\")\n",
    "\n",
    "\t\tjob_url_list = []\n",
    "\n",
    "\t\tfor a in soup.find_all('a', class_ = 'job-lst-main-box-inner'):\n",
    "\t\t\tjob_url_list.append(townwork_url + a.get('href'))\n",
    "\n",
    "\t\tself.response.out.write(json.dumps(job_url_list))"
   ]
  },
  {
   "cell_type": "code",
   "execution_count": 1,
   "metadata": {},
   "outputs": [],
   "source": [
    "from bs4 import BeautifulSoup"
   ]
  },
  {
   "cell_type": "code",
   "execution_count": null,
   "metadata": {},
   "outputs": [],
   "source": []
  }
 ],
 "metadata": {
  "kernelspec": {
   "display_name": "Python 2",
   "language": "python",
   "name": "python2"
  },
  "language_info": {
   "codemirror_mode": {
    "name": "ipython",
    "version": 2
   },
   "file_extension": ".py",
   "mimetype": "text/x-python",
   "name": "python",
   "nbconvert_exporter": "python",
   "pygments_lexer": "ipython2",
   "version": "2.7.15"
  }
 },
 "nbformat": 4,
 "nbformat_minor": 2
}
