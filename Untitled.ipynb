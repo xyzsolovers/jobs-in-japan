{
 "cells": [
  {
   "cell_type": "code",
   "execution_count": 5,
   "metadata": {},
   "outputs": [],
   "source": [
    "import requests\n",
    "from bs4 import BeautifulSoup\n"
   ]
  },
  {
   "cell_type": "code",
   "execution_count": 19,
   "metadata": {},
   "outputs": [],
   "source": [
    "target_url = 'https://townwork.net/joSrchRsltList/?ac=041&slc=0113&suc=01&svos=SCP01030101Salary0113'\n",
    "townwork_url = 'https://townwork.net'"
   ]
  },
  {
   "cell_type": "code",
   "execution_count": 7,
   "metadata": {},
   "outputs": [],
   "source": [
    "r = requests.get(target_url)"
   ]
  },
  {
   "cell_type": "code",
   "execution_count": 8,
   "metadata": {},
   "outputs": [],
   "source": [
    "soup = BeautifulSoup(r.text, 'html5lib')"
   ]
  },
  {
   "cell_type": "code",
   "execution_count": 20,
   "metadata": {},
   "outputs": [],
   "source": [
    "job_url_list = []"
   ]
  },
  {
   "cell_type": "code",
   "execution_count": 21,
   "metadata": {},
   "outputs": [],
   "source": [
    "for a in soup.find_all('a', class_ = 'job-lst-main-box-inner'):\n",
    "    job_url_list.append(townwork_url + a.get('href'))"
   ]
  },
  {
   "cell_type": "code",
   "execution_count": 23,
   "metadata": {},
   "outputs": [],
   "source": [
    "r2 = requests.get(job_url_list[0])"
   ]
  },
  {
   "cell_type": "code",
   "execution_count": 25,
   "metadata": {},
   "outputs": [],
   "source": [
    "soup2 = BeautifulSoup(r2.text, 'html5lib')"
   ]
  },
  {
   "cell_type": "code",
   "execution_count": 55,
   "metadata": {},
   "outputs": [],
   "source": [
    "job_items = []"
   ]
  },
  {
   "cell_type": "code",
   "execution_count": 59,
   "metadata": {},
   "outputs": [],
   "source": [
    "for dl in soup2.find_all('dl',class_='job-ditail-tbl-inner'):\n",
    "    job_items.append(dl.find('dt').text)"
   ]
  },
  {
   "cell_type": "code",
   "execution_count": 60,
   "metadata": {},
   "outputs": [
    {
     "data": {
      "text/plain": [
       "['職種',\n",
       " '給与',\n",
       " '勤務時間',\n",
       " '職種',\n",
       " '対象となる方・資格',\n",
       " '勤務地',\n",
       " '勤務期間',\n",
       " 'シフト詳細',\n",
       " '採用予定人数',\n",
       " '給与',\n",
       " '交通費詳細',\n",
       " '待遇・福利厚生',\n",
       " '従業員構成',\n",
       " '職場の雰囲気',\n",
       " '従業員の働き方・シフト・収入例',\n",
       " '応募後の流れ',\n",
       " '選考について',\n",
       " '問い合わせ番号',\n",
       " '面接地',\n",
       " '掲載期間',\n",
       " '社名（店舗名）',\n",
       " '会社事業内容',\n",
       " '会社住所',\n",
       " 'ホームページリンク',\n",
       " '給与',\n",
       " '勤務時間',\n",
       " '給与',\n",
       " '勤務時間',\n",
       " '給与',\n",
       " '勤務時間',\n",
       " '給与',\n",
       " '勤務時間',\n",
       " '給与',\n",
       " '勤務時間',\n",
       " '給与',\n",
       " '勤務時間',\n",
       " '給与',\n",
       " '勤務時間',\n",
       " '給与',\n",
       " '勤務時間',\n",
       " '給与',\n",
       " '勤務時間',\n",
       " '給与',\n",
       " '勤務時間']"
      ]
     },
     "execution_count": 60,
     "metadata": {},
     "output_type": "execute_result"
    }
   ],
   "source": [
    "job_items"
   ]
  },
  {
   "cell_type": "code",
   "execution_count": null,
   "metadata": {},
   "outputs": [],
   "source": []
  }
 ],
 "metadata": {
  "kernelspec": {
   "display_name": "Python 3",
   "language": "python",
   "name": "python3"
  },
  "language_info": {
   "codemirror_mode": {
    "name": "ipython",
    "version": 3
   },
   "file_extension": ".py",
   "mimetype": "text/x-python",
   "name": "python",
   "nbconvert_exporter": "python",
   "pygments_lexer": "ipython3",
   "version": "3.6.5"
  }
 },
 "nbformat": 4,
 "nbformat_minor": 2
}
